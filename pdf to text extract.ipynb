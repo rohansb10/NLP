{
 "cells": [
  {
   "cell_type": "code",
   "execution_count": 7,
   "id": "221631e4",
   "metadata": {
    "ExecuteTime": {
     "end_time": "2024-03-25T05:05:29.423038Z",
     "start_time": "2024-03-25T05:05:29.253935Z"
    }
   },
   "outputs": [
    {
     "name": "stdout",
     "output_type": "stream",
     "text": [
      "IBM Data Science\n",
      "Coursera\n",
      "Microso/f_t Professional Program Certificate in Data Science \n",
      "Microso/f_t \n",
      "Google Certified Professional Data Engineer \n",
      "GoogleAWARDS & CERTIFICATIONS:John Williams\n",
      "Data Scientist\n",
      "101-900-6543\n",
      "johnwilliams@gmail.com\n",
      "Certified data scientist with 8 years of experience in providing data-driven solutions to increase eﬀiency\n",
      "and accuracy. Achievements include updating data streaming processes for an 18% reduction in redundancy,\n",
      "as well as improving the accuracy of predicted prices by 10%. Highly skilled in data visualisation, \n",
      "machine learning and natural processing. \n",
      "XYZ TechnologiesWORK EXPERIENCE\n",
      "2014-2019 California\n",
      "GPA: 8.7Senior Data Scientist\n",
      "Tasks\n",
      "• Developed end-to-end machine learning prototypes and scaled them to run in production environments. Increased \n",
      "eﬀiciency by 23%\n",
      "• Derived actionable insights from massive data sets with minimal support. \n",
      "• Provided input into the collection of new data sources and the refinement of existing onces to improve analysis and \n",
      "model development. \n",
      "Achievements\n",
      "• Applied data mining to analyze procurement processes resulting in savings of $420,000 a year. Machine Learning Data Visualization Data Mining Python Scala NLP\n",
      "Problem Solving Fast Learner Leadership Risk Analyisis Time ManagementSKILLSET\n",
      "Technical Skills\n",
      "So/f_t Skills\n",
      "EDUCATION\n",
      "BSc in Statistics\n",
      "XYZ University\n",
      "07/2016-07/2019\n",
      "Courses: Probability and Statistics, Generalised Linear Models, Applied Statistics\n",
      "• Excelled in machine learning and data science coursework. \n",
      "• President, AI club.Tumor detection using thermal images\n",
      "• Responsibility: Worked as a developer along with the team of three candidates. \n",
      "• Technologies used: Python (NumPy, Pandas, Keras, Tensorflow, scikit-learn), SQL, Deep Learning algorithms. \n",
      "• Model accuracy: 95%PROJECTS\n",
      "Technical Content Writing Space Exploration Badminton SwimmingINTEREST AND HOBBIES\n"
     ]
    }
   ],
   "source": [
    "import PyPDF2\n",
    "\n",
    "path = r\"Data-Scientist-Resume.pdf\"\n",
    "with open(path, \"rb\") as file:\n",
    "    reader = PyPDF2.PdfFileReader(file)\n",
    "    text = \"\"\n",
    "    for page_num in range(reader.numPages):\n",
    "        page = reader.getPage(page_num)\n",
    "        text += page.extractText()\n",
    "\n",
    "# Print the extracted text\n",
    "print(text)\n"
   ]
  },
  {
   "cell_type": "code",
   "execution_count": 29,
   "id": "7b814d7d",
   "metadata": {
    "ExecuteTime": {
     "end_time": "2024-03-25T05:49:41.249527Z",
     "start_time": "2024-03-25T05:49:41.206488Z"
    }
   },
   "outputs": [
    {
     "name": "stdout",
     "output_type": "stream",
     "text": [
      "Text from the first page:\n",
      "\n",
      "\n",
      "\n",
      "IBM Data Science\n",
      "Coursera\n",
      "Microso/f_t Professional Program Certificate in Data Science \n",
      "Microso/f_t \n",
      "Google Certified Professional Data Engineer \n",
      "GoogleAWARDS & CERTIFICATIONS:John Williams\n",
      "Data Scientist\n",
      "101-900-6543\n",
      "johnwilliams@gmail.com\n",
      "Certified data scientist with 8 years of experience in providing data-driven solutions to increase eﬀiency\n",
      "and accuracy. Achievements include updating data streaming processes for an 18% reduction in redundancy,\n",
      "as well as improving the accuracy of predicted prices by 10%. Highly skilled in data visualisation, \n",
      "machine learning and natural processing. \n",
      "XYZ TechnologiesWORK EXPERIENCE\n",
      "2014-2019 California\n",
      "GPA: 8.7Senior Data Scientist\n",
      "Tasks\n",
      "• Developed end-to-end machine learning prototypes and scaled them to run in production environments. Increased \n",
      "eﬀiciency by 23%\n",
      "• Derived actionable insights from massive data sets with minimal support. \n",
      "• Provided input into the collection of new data sources and the refinement of existing onces to improve analysis and \n",
      "model development. \n",
      "Achievements\n",
      "• Applied data mining to analyze procurement processes resulting in savings of $420,000 a year. Machine Learning Data Visualization Data Mining Python Scala NLP\n",
      "Problem Solving Fast Learner Leadership Risk Analyisis Time ManagementSKILLSET\n",
      "Technical Skills\n",
      "So/f_t Skills\n",
      "EDUCATION\n",
      "BSc in Statistics\n",
      "XYZ University\n",
      "07/2016-07/2019\n",
      "Courses: Probability and Statistics, Generalised Linear Models, Applied Statistics\n",
      "• Excelled in machine learning and data science coursework. \n",
      "• President, AI club.\n"
     ]
    }
   ],
   "source": [
    "import PyPDF2\n",
    "\n",
    "path = r\"Data-Scientist-Resume.pdf\"\n",
    "\n",
    "reader = PyPDF2.PdfFileReader(open(path, \"rb\"))\n",
    "if reader.numPages >= 1:\n",
    "    first_page = reader.getPage(0)\n",
    "    text = first_page.extractText()\n",
    "    print(\"Text from the first page:\\n\\n\\n\")\n",
    "    print(text)\n",
    "else:\n",
    "    print(\"The PDF has no pages.\")\n"
   ]
  },
  {
   "cell_type": "code",
   "execution_count": null,
   "id": "b9c73664",
   "metadata": {},
   "outputs": [],
   "source": []
  }
 ],
 "metadata": {
  "kernelspec": {
   "display_name": "Python 3 (ipykernel)",
   "language": "python",
   "name": "python3"
  },
  "language_info": {
   "codemirror_mode": {
    "name": "ipython",
    "version": 3
   },
   "file_extension": ".py",
   "mimetype": "text/x-python",
   "name": "python",
   "nbconvert_exporter": "python",
   "pygments_lexer": "ipython3",
   "version": "3.11.5"
  },
  "toc": {
   "base_numbering": 1,
   "nav_menu": {},
   "number_sections": true,
   "sideBar": true,
   "skip_h1_title": false,
   "title_cell": "Table of Contents",
   "title_sidebar": "Contents",
   "toc_cell": false,
   "toc_position": {},
   "toc_section_display": true,
   "toc_window_display": false
  },
  "varInspector": {
   "cols": {
    "lenName": 16,
    "lenType": 16,
    "lenVar": 40
   },
   "kernels_config": {
    "python": {
     "delete_cmd_postfix": "",
     "delete_cmd_prefix": "del ",
     "library": "var_list.py",
     "varRefreshCmd": "print(var_dic_list())"
    },
    "r": {
     "delete_cmd_postfix": ") ",
     "delete_cmd_prefix": "rm(",
     "library": "var_list.r",
     "varRefreshCmd": "cat(var_dic_list()) "
    }
   },
   "types_to_exclude": [
    "module",
    "function",
    "builtin_function_or_method",
    "instance",
    "_Feature"
   ],
   "window_display": false
  }
 },
 "nbformat": 4,
 "nbformat_minor": 5
}
